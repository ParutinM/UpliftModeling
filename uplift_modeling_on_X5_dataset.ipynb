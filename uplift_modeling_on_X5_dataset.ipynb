{
 "cells": [
  {
   "attachments": {},
   "cell_type": "markdown",
   "metadata": {},
   "source": [
    "# Uplift-modelling"
   ]
  },
  {
   "cell_type": "code",
   "execution_count": 56,
   "metadata": {},
   "outputs": [],
   "source": [
    "from sklearn.model_selection import train_test_split\n",
    "from sklift.datasets import fetch_x5\n",
    "import pandas as pd\n",
    "import matplotlib.pyplot as plt"
   ]
  },
  {
   "attachments": {},
   "cell_type": "markdown",
   "metadata": {},
   "source": [
    "# 1. Working with data"
   ]
  },
  {
   "attachments": {},
   "cell_type": "markdown",
   "metadata": {},
   "source": [
    "## 1.1. Loading data\n",
    "\n",
    "We are going to work with X5 dataset."
   ]
  },
  {
   "cell_type": "code",
   "execution_count": 3,
   "metadata": {},
   "outputs": [
    {
     "name": "stderr",
     "output_type": "stream",
     "text": [
      "Part 1: X5 train: 100%|██████████| 1.18M/1.18M [00:00<00:00, 2.10MiB/s]\n",
      "Part 2: X5 clients: 100%|██████████| 7.64M/7.64M [00:04<00:00, 1.66MiB/s]\n",
      "Part 3: X5 purchases: 100%|██████████| 670M/670M [07:59<00:00, 1.40MiB/s] \n"
     ]
    }
   ],
   "source": [
    "dataset = fetch_x5()"
   ]
  },
  {
   "attachments": {},
   "cell_type": "markdown",
   "metadata": {},
   "source": [
    "## 1.2. Understanding content of data"
   ]
  },
  {
   "cell_type": "code",
   "execution_count": 26,
   "metadata": {},
   "outputs": [
    {
     "data": {
      "text/plain": [
       "{'train_features': ['client_id', 'treatment_flg', 'target'],\n",
       " 'clients_features': ['client_id',\n",
       "  'first_issue_date',\n",
       "  'first_redeem_date',\n",
       "  'age',\n",
       "  'gender'],\n",
       " 'purchases_features': ['client_id',\n",
       "  'transaction_id',\n",
       "  'transaction_datetime',\n",
       "  'regular_points_received',\n",
       "  'express_points_received',\n",
       "  'regular_points_spent',\n",
       "  'express_points_spent',\n",
       "  'purchase_sum',\n",
       "  'store_id',\n",
       "  'product_id',\n",
       "  'product_quantity',\n",
       "  'trn_sum_from_iss',\n",
       "  'trn_sum_from_red']}"
      ]
     },
     "execution_count": 26,
     "metadata": {},
     "output_type": "execute_result"
    }
   ],
   "source": [
    "dataset.feature_names"
   ]
  },
  {
   "attachments": {},
   "cell_type": "markdown",
   "metadata": {},
   "source": [
    "`train features`:\n",
    "- `client_id` - client ID\n",
    "- `treatment_flg` - treatment flag: \n",
    "    - `0` - no communication, \n",
    "    - `1` - with communication\n",
    "- `target` - flag of target action: \n",
    "    - `0` - no action, \n",
    "    - `1` - action\n",
    "\n",
    "`clients_features`:\n",
    "- `client_id` - client ID\n",
    "- `first_issue_date` - date of first card release\n",
    "- `first_redeem_date` - date of first payment\n",
    "- `age` - age\n",
    "- `gender` - gender:\n",
    "    - `F` - female\n",
    "    - `M` - male\n",
    "    - `U` - unknown\n",
    "\n",
    "`purchases_features`:\n",
    "- `client_id` - client ID\n",
    "- `transaction_id` - transaction ID\n",
    "- `regular_points_received` \n",
    "- `express_points_received`\n",
    "- `regular_points_spent`\n",
    "- `express_points_spent`\n",
    "- `purchase_sum` - total sum of transaction\n",
    "- `store_id` - store ID\n",
    "- `product_id` - product ID\n",
    "- `product_quantity` - quantity of product ID\n",
    "- `trn_sum_from_iss` \n",
    "- `trn_sum_from_red` "
   ]
  },
  {
   "attachments": {},
   "cell_type": "markdown",
   "metadata": {},
   "source": [
    "## 1.3. Feature selecting"
   ]
  },
  {
   "attachments": {},
   "cell_type": "markdown",
   "metadata": {},
   "source": [
    "- `client_id`\n",
    "- `first_issue_time` - convert `first_issue_date` from datetime type to int: number of days past `2017-01-01 00:00:00`\n",
    "- `first_redeem_time` - convert `first_redeem_date` from datetime type to int: number of days past `2017-01-01 00:00:00`\n",
    "- `age`\n",
    "- `gender` - \"one-hot\" representation"
   ]
  },
  {
   "attachments": {},
   "cell_type": "markdown",
   "metadata": {},
   "source": [
    "## 1.4. Feature generation\n",
    "- `transaction_amount` - total number of transactions\n",
    "- `transaction_sum` - total sum of transactions\n",
    "- `regular_points_spent_sum` - total sum of `regular_points_spent`\n",
    "- `express_points_spent_sum` - total sum of `express_points_spent`\n",
    "- `ragular_points_spent_to_total` - `regular_points_spent` / `transaction_sum`\n",
    "- `express_points_spent_to_total` - `express_points_spent` / `transaction_sum`\n",
    "- `avg_transaction` - `transaction_sum` / `transaction_amount`"
   ]
  },
  {
   "cell_type": "code",
   "execution_count": 96,
   "metadata": {},
   "outputs": [
    {
     "data": {
      "text/html": [
       "<div>\n",
       "<style scoped>\n",
       "    .dataframe tbody tr th:only-of-type {\n",
       "        vertical-align: middle;\n",
       "    }\n",
       "\n",
       "    .dataframe tbody tr th {\n",
       "        vertical-align: top;\n",
       "    }\n",
       "\n",
       "    .dataframe thead th {\n",
       "        text-align: right;\n",
       "    }\n",
       "</style>\n",
       "<table border=\"1\" class=\"dataframe\">\n",
       "  <thead>\n",
       "    <tr style=\"text-align: right;\">\n",
       "      <th></th>\n",
       "      <th>age</th>\n",
       "      <th>first_issue_time</th>\n",
       "      <th>first_redeem_time</th>\n",
       "      <th>gender_M_flg</th>\n",
       "      <th>gender_F_flg</th>\n",
       "      <th>transaction_amount</th>\n",
       "      <th>transaction_sum</th>\n",
       "      <th>regular_points_spent_sum</th>\n",
       "      <th>express_points_spent_sum</th>\n",
       "      <th>ragular_points_spent_to_total</th>\n",
       "      <th>express_points_spent_to_total</th>\n",
       "      <th>avg_transaction</th>\n",
       "    </tr>\n",
       "    <tr>\n",
       "      <th>client_id</th>\n",
       "      <th></th>\n",
       "      <th></th>\n",
       "      <th></th>\n",
       "      <th></th>\n",
       "      <th></th>\n",
       "      <th></th>\n",
       "      <th></th>\n",
       "      <th></th>\n",
       "      <th></th>\n",
       "      <th></th>\n",
       "      <th></th>\n",
       "      <th></th>\n",
       "    </tr>\n",
       "  </thead>\n",
       "  <tbody>\n",
       "    <tr>\n",
       "      <th>000012768d</th>\n",
       "      <td>45</td>\n",
       "      <td>216</td>\n",
       "      <td>368.0</td>\n",
       "      <td>0</td>\n",
       "      <td>0</td>\n",
       "      <td>4</td>\n",
       "      <td>2803.00</td>\n",
       "      <td>-0.0</td>\n",
       "      <td>-0.0</td>\n",
       "      <td>-0.000000</td>\n",
       "      <td>-0.0</td>\n",
       "      <td>700.750000</td>\n",
       "    </tr>\n",
       "    <tr>\n",
       "      <th>000036f903</th>\n",
       "      <td>72</td>\n",
       "      <td>99</td>\n",
       "      <td>112.0</td>\n",
       "      <td>0</td>\n",
       "      <td>1</td>\n",
       "      <td>32</td>\n",
       "      <td>9439.00</td>\n",
       "      <td>-0.0</td>\n",
       "      <td>-0.0</td>\n",
       "      <td>-0.000000</td>\n",
       "      <td>-0.0</td>\n",
       "      <td>294.968750</td>\n",
       "    </tr>\n",
       "    <tr>\n",
       "      <th>000048b7a6</th>\n",
       "      <td>68</td>\n",
       "      <td>713</td>\n",
       "      <td>NaN</td>\n",
       "      <td>0</td>\n",
       "      <td>1</td>\n",
       "      <td>8</td>\n",
       "      <td>3772.00</td>\n",
       "      <td>-0.0</td>\n",
       "      <td>-0.0</td>\n",
       "      <td>-0.000000</td>\n",
       "      <td>-0.0</td>\n",
       "      <td>471.500000</td>\n",
       "    </tr>\n",
       "    <tr>\n",
       "      <th>000073194a</th>\n",
       "      <td>60</td>\n",
       "      <td>142</td>\n",
       "      <td>327.0</td>\n",
       "      <td>0</td>\n",
       "      <td>1</td>\n",
       "      <td>17</td>\n",
       "      <td>9282.40</td>\n",
       "      <td>96.0</td>\n",
       "      <td>-0.0</td>\n",
       "      <td>0.010342</td>\n",
       "      <td>-0.0</td>\n",
       "      <td>546.023529</td>\n",
       "    </tr>\n",
       "    <tr>\n",
       "      <th>00007c7133</th>\n",
       "      <td>67</td>\n",
       "      <td>141</td>\n",
       "      <td>729.0</td>\n",
       "      <td>0</td>\n",
       "      <td>0</td>\n",
       "      <td>11</td>\n",
       "      <td>6719.84</td>\n",
       "      <td>240.0</td>\n",
       "      <td>-0.0</td>\n",
       "      <td>0.035715</td>\n",
       "      <td>-0.0</td>\n",
       "      <td>610.894545</td>\n",
       "    </tr>\n",
       "    <tr>\n",
       "      <th>fffece623e</th>\n",
       "      <td>67</td>\n",
       "      <td>497</td>\n",
       "      <td>725.0</td>\n",
       "      <td>0</td>\n",
       "      <td>0</td>\n",
       "      <td>24</td>\n",
       "      <td>6530.01</td>\n",
       "      <td>68.0</td>\n",
       "      <td>-0.0</td>\n",
       "      <td>0.010413</td>\n",
       "      <td>-0.0</td>\n",
       "      <td>272.083750</td>\n",
       "    </tr>\n",
       "    <tr>\n",
       "      <th>ffff3dfff8</th>\n",
       "      <td>56</td>\n",
       "      <td>669</td>\n",
       "      <td>705.0</td>\n",
       "      <td>0</td>\n",
       "      <td>1</td>\n",
       "      <td>17</td>\n",
       "      <td>7264.84</td>\n",
       "      <td>182.0</td>\n",
       "      <td>-0.0</td>\n",
       "      <td>0.025052</td>\n",
       "      <td>-0.0</td>\n",
       "      <td>427.343529</td>\n",
       "    </tr>\n",
       "    <tr>\n",
       "      <th>ffffaab9da</th>\n",
       "      <td>23</td>\n",
       "      <td>236</td>\n",
       "      <td>341.0</td>\n",
       "      <td>0</td>\n",
       "      <td>1</td>\n",
       "      <td>7</td>\n",
       "      <td>3791.00</td>\n",
       "      <td>6.0</td>\n",
       "      <td>-0.0</td>\n",
       "      <td>0.001583</td>\n",
       "      <td>-0.0</td>\n",
       "      <td>541.571429</td>\n",
       "    </tr>\n",
       "    <tr>\n",
       "      <th>ffffeb5619</th>\n",
       "      <td>62</td>\n",
       "      <td>338</td>\n",
       "      <td>NaN</td>\n",
       "      <td>0</td>\n",
       "      <td>0</td>\n",
       "      <td>7</td>\n",
       "      <td>15226.22</td>\n",
       "      <td>-0.0</td>\n",
       "      <td>-0.0</td>\n",
       "      <td>-0.000000</td>\n",
       "      <td>-0.0</td>\n",
       "      <td>2175.174286</td>\n",
       "    </tr>\n",
       "    <tr>\n",
       "      <th>fffff6ce77</th>\n",
       "      <td>42</td>\n",
       "      <td>214</td>\n",
       "      <td>237.0</td>\n",
       "      <td>0</td>\n",
       "      <td>0</td>\n",
       "      <td>32</td>\n",
       "      <td>18560.59</td>\n",
       "      <td>302.0</td>\n",
       "      <td>-0.0</td>\n",
       "      <td>0.016271</td>\n",
       "      <td>-0.0</td>\n",
       "      <td>580.018438</td>\n",
       "    </tr>\n",
       "  </tbody>\n",
       "</table>\n",
       "</div>"
      ],
      "text/plain": [
       "            age  first_issue_time  first_redeem_time  gender_M_flg  \\\n",
       "client_id                                                            \n",
       "000012768d   45               216              368.0             0   \n",
       "000036f903   72                99              112.0             0   \n",
       "000048b7a6   68               713                NaN             0   \n",
       "000073194a   60               142              327.0             0   \n",
       "00007c7133   67               141              729.0             0   \n",
       "fffece623e   67               497              725.0             0   \n",
       "ffff3dfff8   56               669              705.0             0   \n",
       "ffffaab9da   23               236              341.0             0   \n",
       "ffffeb5619   62               338                NaN             0   \n",
       "fffff6ce77   42               214              237.0             0   \n",
       "\n",
       "            gender_F_flg  transaction_amount  transaction_sum  \\\n",
       "client_id                                                       \n",
       "000012768d             0                   4          2803.00   \n",
       "000036f903             1                  32          9439.00   \n",
       "000048b7a6             1                   8          3772.00   \n",
       "000073194a             1                  17          9282.40   \n",
       "00007c7133             0                  11          6719.84   \n",
       "fffece623e             0                  24          6530.01   \n",
       "ffff3dfff8             1                  17          7264.84   \n",
       "ffffaab9da             1                   7          3791.00   \n",
       "ffffeb5619             0                   7         15226.22   \n",
       "fffff6ce77             0                  32         18560.59   \n",
       "\n",
       "            regular_points_spent_sum  express_points_spent_sum  \\\n",
       "client_id                                                        \n",
       "000012768d                      -0.0                      -0.0   \n",
       "000036f903                      -0.0                      -0.0   \n",
       "000048b7a6                      -0.0                      -0.0   \n",
       "000073194a                      96.0                      -0.0   \n",
       "00007c7133                     240.0                      -0.0   \n",
       "fffece623e                      68.0                      -0.0   \n",
       "ffff3dfff8                     182.0                      -0.0   \n",
       "ffffaab9da                       6.0                      -0.0   \n",
       "ffffeb5619                      -0.0                      -0.0   \n",
       "fffff6ce77                     302.0                      -0.0   \n",
       "\n",
       "            ragular_points_spent_to_total  express_points_spent_to_total  \\\n",
       "client_id                                                                  \n",
       "000012768d                      -0.000000                           -0.0   \n",
       "000036f903                      -0.000000                           -0.0   \n",
       "000048b7a6                      -0.000000                           -0.0   \n",
       "000073194a                       0.010342                           -0.0   \n",
       "00007c7133                       0.035715                           -0.0   \n",
       "fffece623e                       0.010413                           -0.0   \n",
       "ffff3dfff8                       0.025052                           -0.0   \n",
       "ffffaab9da                       0.001583                           -0.0   \n",
       "ffffeb5619                      -0.000000                           -0.0   \n",
       "fffff6ce77                       0.016271                           -0.0   \n",
       "\n",
       "            avg_transaction  \n",
       "client_id                    \n",
       "000012768d       700.750000  \n",
       "000036f903       294.968750  \n",
       "000048b7a6       471.500000  \n",
       "000073194a       546.023529  \n",
       "00007c7133       610.894545  \n",
       "fffece623e       272.083750  \n",
       "ffff3dfff8       427.343529  \n",
       "ffffaab9da       541.571429  \n",
       "ffffeb5619      2175.174286  \n",
       "fffff6ce77       580.018438  "
      ]
     },
     "execution_count": 96,
     "metadata": {},
     "output_type": "execute_result"
    }
   ],
   "source": [
    "df_clients = dataset.data['clients'].set_index(\"client_id\")\n",
    "df_purchases =  pd.concat([dataset.data['purchases'][[\"client_id\", \"transaction_id\"]].drop_duplicates().groupby([\"client_id\"]).count(),\n",
    "                           dataset.data['purchases'][[\"client_id\", \"purchase_sum\", \"regular_points_spent\", \"express_points_spent\"]].drop_duplicates().groupby([\"client_id\"]).sum()], \n",
    "                           axis=1)\n",
    "df_train = pd.concat([dataset.data['train'], dataset.treatment , dataset.target], axis=1).set_index(\"client_id\")\n",
    "indices_test = pd.Index(set(df_clients.index) - set(df_train.index))\n",
    "\n",
    "df_features = df_clients.copy()\n",
    "\n",
    "df_features['first_issue_time'] = \\\n",
    "    ((pd.to_datetime(df_features['first_issue_date'])\n",
    "     - pd.Timestamp('2017-01-01')) // pd.Timedelta('1d'))\n",
    "    \n",
    "df_features['first_redeem_time'] = \\\n",
    "    ((pd.to_datetime(df_features['first_redeem_date'])\n",
    "     - pd.Timestamp('2017-01-01')) // pd.Timedelta('1d'))\n",
    "    \n",
    "df_features['gender_M_flg'] = pd.get_dummies(df_features['gender'])['M']\n",
    "df_features['gender_F_flg'] = pd.get_dummies(df_features['gender'])['F']\n",
    "\n",
    "df_features['transaction_amount'] = df_purchases['transaction_id']\n",
    "df_features['transaction_sum'] = df_purchases['purchase_sum']\n",
    "df_features['regular_points_spent_sum'] = -df_purchases['regular_points_spent']\n",
    "df_features['express_points_spent_sum'] = -df_purchases['express_points_spent']\n",
    "\n",
    "df_features['ragular_points_spent_to_total'] = df_features['regular_points_spent_sum'] / df_features['transaction_sum']\n",
    "df_features['express_points_spent_to_total'] = df_features['express_points_spent_sum'] / df_features['transaction_sum']\n",
    "df_features['avg_transaction'] = df_features['transaction_sum']/df_features['transaction_amount']\n",
    "\n",
    "df_features = df_features.drop(['first_issue_date', 'first_redeem_date', 'gender'], axis=1)\n",
    "\n",
    "indices_learn, indices_valid = train_test_split(df_train.index, test_size=0.3, random_state=42)\n",
    "\n",
    "del df_clients\n",
    "del df_purchases\n",
    "\n",
    "pd.concat([df_features.head(), df_features.tail()], axis=0)"
   ]
  },
  {
   "cell_type": "code",
   "execution_count": 91,
   "metadata": {},
   "outputs": [],
   "source": [
    "X_train = df_features.loc[indices_learn, :]\n",
    "y_train = df_train.loc[indices_learn, 'target']\n",
    "treat_train = df_train.loc[indices_learn, 'treatment_flg']\n",
    "\n",
    "X_val = df_features.loc[indices_valid, :]\n",
    "y_val = df_train.loc[indices_valid, 'target']\n",
    "treat_val =  df_train.loc[indices_valid, 'treatment_flg']\n",
    "\n",
    "X_train_full = df_features.loc[df_train.index, :]\n",
    "y_train_full = df_train.loc[:, 'target']\n",
    "treat_train_full = df_train.loc[:, 'treatment_flg']\n",
    "\n",
    "X_test = df_features.loc[indices_test, :]\n",
    "\n",
    "del df_train"
   ]
  },
  {
   "attachments": {},
   "cell_type": "markdown",
   "metadata": {},
   "source": [
    "## 1.5. Ideas!!!"
   ]
  },
  {
   "attachments": {},
   "cell_type": "markdown",
   "metadata": {},
   "source": [
    "### 1.5.1 Use some products as features (I don't know is it a good idea)\n",
    "\n",
    "I guess `4009f09b04` is a plastic bag :)"
   ]
  },
  {
   "cell_type": "code",
   "execution_count": 93,
   "metadata": {},
   "outputs": [
    {
     "data": {
      "text/plain": [
       "4009f09b04    1824586\n",
       "15ccaa8685     628910\n",
       "bf07df54e1     414745\n",
       "3e038662c0     383480\n",
       "4dcf79043e     370451\n",
       "f4599ca21a     330278\n",
       "5cb93c9bc5     320701\n",
       "4a29330c8d     293404\n",
       "439498bce2     251743\n",
       "343e841aaa     230927\n",
       "0a46068efc     221386\n",
       "dc2001d036     206469\n",
       "31dcf71bbd     191268\n",
       "5645789fdf     188635\n",
       "113e3ace79     188625\n",
       "Name: product_id, dtype: int64"
      ]
     },
     "execution_count": 93,
     "metadata": {},
     "output_type": "execute_result"
    }
   ],
   "source": [
    "dataset.data.purchases.product_id.value_counts().head(15)"
   ]
  },
  {
   "cell_type": "code",
   "execution_count": 62,
   "metadata": {},
   "outputs": [
    {
     "data": {
      "text/plain": [
       "<AxesSubplot: >"
      ]
     },
     "execution_count": 62,
     "metadata": {},
     "output_type": "execute_result"
    },
    {
     "data": {
      "image/png": "[encoded data removed]",
      "text/plain": [
       "<Figure size 640x480 with 1 Axes>"
      ]
     },
     "metadata": {},
     "output_type": "display_data"
    }
   ],
   "source": [
    "dataset.data.purchases.product_id.value_counts().head(15).plot.bar()"
   ]
  },
  {
   "attachments": {},
   "cell_type": "markdown",
   "metadata": {},
   "source": [
    "# 2. Trying some models"
   ]
  },
  {
   "cell_type": "code",
   "execution_count": 97,
   "metadata": {},
   "outputs": [],
   "source": [
    "from sklift.metrics import uplift_at_k\n",
    "from sklift.viz import plot_uplift_preds"
   ]
  },
  {
   "attachments": {},
   "cell_type": "markdown",
   "metadata": {},
   "source": [
    "## 2.1. S-Learner (Solo model approach)"
   ]
  },
  {
   "attachments": {},
   "cell_type": "markdown",
   "metadata": {},
   "source": [
    "<p align=\"center\" width=\"500\">\n",
    "    <img src=\"SoloModel.png\" alt=\"Solo Model\" width=\"500\"/>\n",
    "</p>"
   ]
  },
  {
   "cell_type": "code",
   "execution_count": 109,
   "metadata": {},
   "outputs": [
    {
     "name": "stderr",
     "output_type": "stream",
     "text": [
      "/Users/parutin/miniconda3/envs/ml_env/lib/python3.10/site-packages/catboost/core.py:1411: FutureWarning: iteritems is deprecated and will be removed in a future version. Use .items instead.\n",
      "  self._init_pool(data, label, cat_features, text_features, embedding_features, embedding_features_data, pairs, weight,\n",
      "/Users/parutin/miniconda3/envs/ml_env/lib/python3.10/site-packages/catboost/core.py:1411: FutureWarning: iteritems is deprecated and will be removed in a future version. Use .items instead.\n",
      "  self._init_pool(data, label, cat_features, text_features, embedding_features, embedding_features_data, pairs, weight,\n"
     ]
    },
    {
     "data": {
      "text/plain": [
       "array([<AxesSubplot: title={'center': 'Treatment predictions'}, ylabel='Probability hist'>,\n",
       "       <AxesSubplot: title={'center': 'Control predictions'}>,\n",
       "       <AxesSubplot: title={'center': 'Uplift predictions'}>],\n",
       "      dtype=object)"
      ]
     },
     "execution_count": 109,
     "metadata": {},
     "output_type": "execute_result"
    },
    {
     "data": {
      "image/png": "[encoded data removed]",
      "text/plain": [
       "<Figure size 2000x700 with 3 Axes>"
      ]
     },
     "metadata": {},
     "output_type": "display_data"
    }
   ],
   "source": [
    "from sklift.models import SoloModel\n",
    "\n",
    "from catboost import CatBoostClassifier\n",
    "\n",
    "sm = SoloModel(CatBoostClassifier(iterations=100, thread_count=2, random_state=42, silent=True))\n",
    "sm = sm.fit(X_train, y_train, treat_train)\n",
    "\n",
    "uplift_sm = sm.predict(X_val)\n",
    "\n",
    "sm_score = uplift_at_k(y_true=y_val, uplift=uplift_sm, treatment=treat_val, strategy='by_group', k=0.3)\n",
    "\n",
    "sm_trmnt_preds = sm.trmnt_preds_\n",
    "sm_ctrl_preds = sm.ctrl_preds_\n",
    "\n",
    "plot_uplift_preds(trmnt_preds=sm_trmnt_preds, ctrl_preds=sm_ctrl_preds)"
   ]
  },
  {
   "cell_type": "code",
   "execution_count": 110,
   "metadata": {},
   "outputs": [
    {
     "data": {
      "text/html": [
       "<div>\n",
       "<style scoped>\n",
       "    .dataframe tbody tr th:only-of-type {\n",
       "        vertical-align: middle;\n",
       "    }\n",
       "\n",
       "    .dataframe tbody tr th {\n",
       "        vertical-align: top;\n",
       "    }\n",
       "\n",
       "    .dataframe thead th {\n",
       "        text-align: right;\n",
       "    }\n",
       "</style>\n",
       "<table border=\"1\" class=\"dataframe\">\n",
       "  <thead>\n",
       "    <tr style=\"text-align: right;\">\n",
       "      <th></th>\n",
       "      <th>feature_name</th>\n",
       "      <th>feature_score</th>\n",
       "    </tr>\n",
       "  </thead>\n",
       "  <tbody>\n",
       "    <tr>\n",
       "      <th>0</th>\n",
       "      <td>transaction_amount</td>\n",
       "      <td>38.374420</td>\n",
       "    </tr>\n",
       "    <tr>\n",
       "      <th>1</th>\n",
       "      <td>first_redeem_time</td>\n",
       "      <td>29.168489</td>\n",
       "    </tr>\n",
       "    <tr>\n",
       "      <th>2</th>\n",
       "      <td>first_issue_time</td>\n",
       "      <td>9.229916</td>\n",
       "    </tr>\n",
       "    <tr>\n",
       "      <th>3</th>\n",
       "      <td>age</td>\n",
       "      <td>5.256794</td>\n",
       "    </tr>\n",
       "    <tr>\n",
       "      <th>4</th>\n",
       "      <td>transaction_sum</td>\n",
       "      <td>4.994304</td>\n",
       "    </tr>\n",
       "    <tr>\n",
       "      <th>5</th>\n",
       "      <td>avg_transaction</td>\n",
       "      <td>3.944639</td>\n",
       "    </tr>\n",
       "    <tr>\n",
       "      <th>6</th>\n",
       "      <td>regular_points_spent_sum</td>\n",
       "      <td>3.063024</td>\n",
       "    </tr>\n",
       "    <tr>\n",
       "      <th>7</th>\n",
       "      <td>ratio_spent_points_to_total</td>\n",
       "      <td>2.648195</td>\n",
       "    </tr>\n",
       "    <tr>\n",
       "      <th>8</th>\n",
       "      <td>treatment</td>\n",
       "      <td>2.180433</td>\n",
       "    </tr>\n",
       "    <tr>\n",
       "      <th>9</th>\n",
       "      <td>gender_M_flg</td>\n",
       "      <td>0.635082</td>\n",
       "    </tr>\n",
       "    <tr>\n",
       "      <th>10</th>\n",
       "      <td>gender_F_flg</td>\n",
       "      <td>0.504704</td>\n",
       "    </tr>\n",
       "  </tbody>\n",
       "</table>\n",
       "</div>"
      ],
      "text/plain": [
       "                   feature_name  feature_score\n",
       "0            transaction_amount      38.374420\n",
       "1             first_redeem_time      29.168489\n",
       "2              first_issue_time       9.229916\n",
       "3                           age       5.256794\n",
       "4               transaction_sum       4.994304\n",
       "5               avg_transaction       3.944639\n",
       "6      regular_points_spent_sum       3.063024\n",
       "7   ratio_spent_points_to_total       2.648195\n",
       "8                     treatment       2.180433\n",
       "9                  gender_M_flg       0.635082\n",
       "10                 gender_F_flg       0.504704"
      ]
     },
     "execution_count": 110,
     "metadata": {},
     "output_type": "execute_result"
    }
   ],
   "source": [
    "sm_fi = pd.DataFrame({\n",
    "    'feature_name': sm.estimator.feature_names_,\n",
    "    'feature_score': sm.estimator.feature_importances_\n",
    "}).sort_values('feature_score', ascending=False).reset_index(drop=True)\n",
    "\n",
    "sm_fi"
   ]
  },
  {
   "attachments": {},
   "cell_type": "markdown",
   "metadata": {},
   "source": [
    "## 2.2. Class Transformation approaсh"
   ]
  },
  {
   "cell_type": "code",
   "execution_count": 112,
   "metadata": {},
   "outputs": [
    {
     "name": "stderr",
     "output_type": "stream",
     "text": [
      "/Users/parutin/miniconda3/envs/ml_env/lib/python3.10/site-packages/catboost/core.py:1411: FutureWarning: iteritems is deprecated and will be removed in a future version. Use .items instead.\n",
      "  self._init_pool(data, label, cat_features, text_features, embedding_features, embedding_features_data, pairs, weight,\n"
     ]
    },
    {
     "data": {
      "text/html": [
       "<div>\n",
       "<style scoped>\n",
       "    .dataframe tbody tr th:only-of-type {\n",
       "        vertical-align: middle;\n",
       "    }\n",
       "\n",
       "    .dataframe tbody tr th {\n",
       "        vertical-align: top;\n",
       "    }\n",
       "\n",
       "    .dataframe thead th {\n",
       "        text-align: right;\n",
       "    }\n",
       "</style>\n",
       "<table border=\"1\" class=\"dataframe\">\n",
       "  <thead>\n",
       "    <tr style=\"text-align: right;\">\n",
       "      <th></th>\n",
       "      <th>feature_name</th>\n",
       "      <th>feature_score</th>\n",
       "    </tr>\n",
       "  </thead>\n",
       "  <tbody>\n",
       "    <tr>\n",
       "      <th>0</th>\n",
       "      <td>first_redeem_time</td>\n",
       "      <td>34.341833</td>\n",
       "    </tr>\n",
       "    <tr>\n",
       "      <th>1</th>\n",
       "      <td>first_issue_time</td>\n",
       "      <td>11.799827</td>\n",
       "    </tr>\n",
       "    <tr>\n",
       "      <th>2</th>\n",
       "      <td>age</td>\n",
       "      <td>11.020110</td>\n",
       "    </tr>\n",
       "    <tr>\n",
       "      <th>3</th>\n",
       "      <td>transaction_sum</td>\n",
       "      <td>10.071120</td>\n",
       "    </tr>\n",
       "    <tr>\n",
       "      <th>4</th>\n",
       "      <td>avg_transaction</td>\n",
       "      <td>9.416175</td>\n",
       "    </tr>\n",
       "    <tr>\n",
       "      <th>5</th>\n",
       "      <td>ratio_spent_points_to_total</td>\n",
       "      <td>7.231628</td>\n",
       "    </tr>\n",
       "    <tr>\n",
       "      <th>6</th>\n",
       "      <td>transaction_amount</td>\n",
       "      <td>7.119674</td>\n",
       "    </tr>\n",
       "    <tr>\n",
       "      <th>7</th>\n",
       "      <td>regular_points_spent_sum</td>\n",
       "      <td>5.807981</td>\n",
       "    </tr>\n",
       "    <tr>\n",
       "      <th>8</th>\n",
       "      <td>gender_M_flg</td>\n",
       "      <td>1.717150</td>\n",
       "    </tr>\n",
       "    <tr>\n",
       "      <th>9</th>\n",
       "      <td>gender_F_flg</td>\n",
       "      <td>1.474504</td>\n",
       "    </tr>\n",
       "  </tbody>\n",
       "</table>\n",
       "</div>"
      ],
      "text/plain": [
       "                  feature_name  feature_score\n",
       "0            first_redeem_time      34.341833\n",
       "1             first_issue_time      11.799827\n",
       "2                          age      11.020110\n",
       "3              transaction_sum      10.071120\n",
       "4              avg_transaction       9.416175\n",
       "5  ratio_spent_points_to_total       7.231628\n",
       "6           transaction_amount       7.119674\n",
       "7     regular_points_spent_sum       5.807981\n",
       "8                 gender_M_flg       1.717150\n",
       "9                 gender_F_flg       1.474504"
      ]
     },
     "execution_count": 112,
     "metadata": {},
     "output_type": "execute_result"
    }
   ],
   "source": [
    "from sklift.models import ClassTransformation\n",
    "\n",
    "\n",
    "ct = ClassTransformation(CatBoostClassifier(iterations=100, thread_count=2, random_state=42, silent=True))\n",
    "ct = ct.fit(X_train, y_train, treat_train)\n",
    "\n",
    "uplift_ct = ct.predict(X_val)\n",
    "\n",
    "ct_score = uplift_at_k(y_true=y_val, uplift=uplift_ct, treatment=treat_val, strategy='by_group', k=0.3)\n",
    "\n",
    "ct_fi = pd.DataFrame({\n",
    "    'feature_name': ct.estimator.feature_names_,\n",
    "    'feature_score': ct.estimator.feature_importances_\n",
    "}).sort_values('feature_score', ascending=False).reset_index(drop=True)\n",
    "\n",
    "ct_fi"
   ]
  }
 ],
 "metadata": {
  "kernelspec": {
   "display_name": "ml_env",
   "language": "python",
   "name": "python3"
  },
  "language_info": {
   "codemirror_mode": {
    "name": "ipython",
    "version": 3
   },
   "file_extension": ".py",
   "mimetype": "text/x-python",
   "name": "python",
   "nbconvert_exporter": "python",
   "pygments_lexer": "ipython3",
   "version": "3.10.8"
  },
  "orig_nbformat": 4,
  "vscode": {
   "interpreter": {
    "hash": "2ab2bb3cd75f6289cdc2978545faf7c417aa55b4eef1394b0651746c720754bd"
   }
  }
 },
 "nbformat": 4,
 "nbformat_minor": 2
}
